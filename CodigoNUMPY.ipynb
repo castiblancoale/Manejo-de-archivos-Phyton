{
 "cells": [
  {
   "cell_type": "code",
   "execution_count": 2,
   "id": "ca986bba-d41d-4e13-98b6-3656bcccd54b",
   "metadata": {},
   "outputs": [],
   "source": [
    "import numpy as np\n",
    "import random"
   ]
  },
  {
   "cell_type": "code",
   "execution_count": 3,
   "id": "534ce762-f852-4af6-a6b0-585592072d8b",
   "metadata": {},
   "outputs": [
    {
     "data": {
      "text/plain": [
       "array([[0., 0., 0.],\n",
       "       [0., 0., 0.]])"
      ]
     },
     "execution_count": 3,
     "metadata": {},
     "output_type": "execute_result"
    }
   ],
   "source": [
    "ceros = np.zeros((2, 3))\n",
    "ceros"
   ]
  },
  {
   "cell_type": "code",
   "execution_count": 4,
   "id": "5c6e145a-d21a-488b-bb64-f357b07c58ac",
   "metadata": {},
   "outputs": [
    {
     "data": {
      "text/plain": [
       "array([[1., 1., 1.],\n",
       "       [1., 1., 1.],\n",
       "       [1., 1., 1.]])"
      ]
     },
     "execution_count": 4,
     "metadata": {},
     "output_type": "execute_result"
    }
   ],
   "source": [
    "unos = np.ones((3, 3))\n",
    "unos"
   ]
  },
  {
   "cell_type": "code",
   "execution_count": 5,
   "id": "6dcca546-991b-4951-b93b-72c4d613c875",
   "metadata": {},
   "outputs": [
    {
     "data": {
      "text/plain": [
       "array([1, 2, 3])"
      ]
     },
     "execution_count": 5,
     "metadata": {},
     "output_type": "execute_result"
    }
   ],
   "source": [
    "vector1= np.array([1, 2, 3])\n",
    "vector1"
   ]
  },
  {
   "cell_type": "code",
   "execution_count": 8,
   "id": "6043f65c-4b91-42fe-9400-49bc4adf290b",
   "metadata": {},
   "outputs": [
    {
     "data": {
      "text/plain": [
       "array([[10, 52, 93],\n",
       "       [14, 25, 86]])"
      ]
     },
     "execution_count": 8,
     "metadata": {},
     "output_type": "execute_result"
    }
   ],
   "source": [
    "vector2= np.array([[10, 52, 93], [14, 25, 86]])\n",
    "vector2"
   ]
  },
  {
   "cell_type": "code",
   "execution_count": 10,
   "id": "cdc48bea-acce-4c49-a48b-d94228a7c410",
   "metadata": {},
   "outputs": [
    {
     "data": {
      "text/plain": [
       "(3,)"
      ]
     },
     "execution_count": 10,
     "metadata": {},
     "output_type": "execute_result"
    }
   ],
   "source": [
    "forma=vector1.shape\n",
    "forma"
   ]
  },
  {
   "cell_type": "code",
   "execution_count": 11,
   "id": "663c2f0b-d9f2-44cf-a1e8-df7d51478b23",
   "metadata": {},
   "outputs": [
    {
     "data": {
      "text/plain": [
       "1"
      ]
     },
     "execution_count": 11,
     "metadata": {},
     "output_type": "execute_result"
    }
   ],
   "source": [
    "dimension=vector1.ndim\n",
    "dimension"
   ]
  },
  {
   "cell_type": "code",
   "execution_count": 12,
   "id": "93cf77ee-bf6b-47af-9462-29ea01499e57",
   "metadata": {},
   "outputs": [
    {
     "data": {
      "text/plain": [
       "(2, 3)"
      ]
     },
     "execution_count": 12,
     "metadata": {},
     "output_type": "execute_result"
    }
   ],
   "source": [
    "forma2=vector2.shape\n",
    "forma2"
   ]
  },
  {
   "cell_type": "code",
   "execution_count": 13,
   "id": "657c4d4c-9cd6-4ae3-ba8a-66fc8852b3f6",
   "metadata": {},
   "outputs": [
    {
     "data": {
      "text/plain": [
       "2"
      ]
     },
     "execution_count": 13,
     "metadata": {},
     "output_type": "execute_result"
    }
   ],
   "source": [
    "dimension2=vector2.ndim\n",
    "dimension2"
   ]
  },
  {
   "cell_type": "code",
   "execution_count": 14,
   "id": "aff363d2-c935-4969-b1e3-08c3392ff2ca",
   "metadata": {},
   "outputs": [
    {
     "data": {
      "text/plain": [
       "array([[11, 54, 96],\n",
       "       [15, 27, 89]])"
      ]
     },
     "execution_count": 14,
     "metadata": {},
     "output_type": "execute_result"
    }
   ],
   "source": [
    "suma=(vector1+vector2)\n",
    "suma"
   ]
  },
  {
   "cell_type": "code",
   "execution_count": 15,
   "id": "ee2e6c08-1788-40aa-827d-6fe56fd9ff67",
   "metadata": {},
   "outputs": [
    {
     "data": {
      "text/plain": [
       "array([[ -9, -50, -90],\n",
       "       [-13, -23, -83]])"
      ]
     },
     "execution_count": 15,
     "metadata": {},
     "output_type": "execute_result"
    }
   ],
   "source": [
    "resta=(vector1-vector2)\n",
    "resta"
   ]
  },
  {
   "cell_type": "code",
   "execution_count": 16,
   "id": "02b7b7c9-cd6c-4088-8d17-161ded1a5302",
   "metadata": {},
   "outputs": [
    {
     "data": {
      "text/plain": [
       "array([[ 10, 104, 279],\n",
       "       [ 14,  50, 258]])"
      ]
     },
     "execution_count": 16,
     "metadata": {},
     "output_type": "execute_result"
    }
   ],
   "source": [
    "producto=(vector1*vector2)\n",
    "producto"
   ]
  },
  {
   "cell_type": "code",
   "execution_count": 17,
   "id": "a1f7cae6-3062-480e-945a-ae85a963fbed",
   "metadata": {},
   "outputs": [
    {
     "data": {
      "text/plain": [
       "array([[0.1       , 0.03846154, 0.03225806],\n",
       "       [0.07142857, 0.08      , 0.03488372]])"
      ]
     },
     "execution_count": 17,
     "metadata": {},
     "output_type": "execute_result"
    }
   ],
   "source": [
    "residuo=(vector1/vector2)\n",
    "residuo"
   ]
  },
  {
   "cell_type": "code",
   "execution_count": 19,
   "id": "9989c7dc-afe0-426a-b8cf-6ba83bed7ed4",
   "metadata": {},
   "outputs": [
    {
     "data": {
      "text/plain": [
       "array([0.84147098, 0.90929743, 0.14112001])"
      ]
     },
     "execution_count": 19,
     "metadata": {},
     "output_type": "execute_result"
    }
   ],
   "source": [
    "seno=(np.sin(vector1))\n",
    "seno"
   ]
  },
  {
   "cell_type": "code",
   "execution_count": 20,
   "id": "4dced842-3850-42de-99d8-a2f250a2806c",
   "metadata": {},
   "outputs": [
    {
     "data": {
      "text/plain": [
       "array([ 0.54030231, -0.41614684, -0.9899925 ])"
      ]
     },
     "execution_count": 20,
     "metadata": {},
     "output_type": "execute_result"
    }
   ],
   "source": [
    "cos=(np.cos(vector1))\n",
    "cos"
   ]
  },
  {
   "cell_type": "code",
   "execution_count": 23,
   "id": "fc9982d3-7d5e-4fa1-a385-ab72f9527915",
   "metadata": {},
   "outputs": [
    {
     "data": {
      "text/plain": [
       "1"
      ]
     },
     "execution_count": 23,
     "metadata": {},
     "output_type": "execute_result"
    }
   ],
   "source": [
    "minimo=(np.min(vector1))\n",
    "minimo"
   ]
  },
  {
   "cell_type": "code",
   "execution_count": 22,
   "id": "86a8eac7-3472-4c1c-a8f5-e3a30f3a44d4",
   "metadata": {},
   "outputs": [
    {
     "data": {
      "text/plain": [
       "3"
      ]
     },
     "execution_count": 22,
     "metadata": {},
     "output_type": "execute_result"
    }
   ],
   "source": [
    "maximo=(np.max(vector1))\n",
    "maximo"
   ]
  },
  {
   "cell_type": "code",
   "execution_count": 24,
   "id": "02681a18-6a4f-4ade-bda6-810a20af94f4",
   "metadata": {},
   "outputs": [
    {
     "data": {
      "text/plain": [
       "array([[56, 98, 45],\n",
       "       [87, 51, 23]])"
      ]
     },
     "execution_count": 24,
     "metadata": {},
     "output_type": "execute_result"
    }
   ],
   "source": [
    "matriz1 = np.array([[56, 98, 45], [87, 51, 23]])\n",
    "matriz1"
   ]
  },
  {
   "cell_type": "code",
   "execution_count": 25,
   "id": "df3c359d-660f-4592-a538-b3ba63f23374",
   "metadata": {},
   "outputs": [
    {
     "data": {
      "text/plain": [
       "98"
      ]
     },
     "execution_count": 25,
     "metadata": {},
     "output_type": "execute_result"
    }
   ],
   "source": [
    "(matriz1[0, 1])"
   ]
  },
  {
   "cell_type": "code",
   "execution_count": 28,
   "id": "e659bdc1-9792-4e17-94f4-de43818807a2",
   "metadata": {},
   "outputs": [
    {
     "data": {
      "text/plain": [
       "array([45, 23])"
      ]
     },
     "execution_count": 28,
     "metadata": {},
     "output_type": "execute_result"
    }
   ],
   "source": [
    "(matriz1[:,2])"
   ]
  },
  {
   "cell_type": "code",
   "execution_count": 27,
   "id": "c57d8818-367f-4017-af07-1962ca2b1608",
   "metadata": {},
   "outputs": [
    {
     "data": {
      "text/plain": [
       "array([87, 51, 23])"
      ]
     },
     "execution_count": 27,
     "metadata": {},
     "output_type": "execute_result"
    }
   ],
   "source": [
    "(matriz1[1,:])"
   ]
  },
  {
   "cell_type": "code",
   "execution_count": null,
   "id": "6fe9460f-939d-402d-a583-7308b9824ea8",
   "metadata": {},
   "outputs": [],
   "source": []
  }
 ],
 "metadata": {
  "kernelspec": {
   "display_name": "Python 3 (ipykernel)",
   "language": "python",
   "name": "python3"
  },
  "language_info": {
   "codemirror_mode": {
    "name": "ipython",
    "version": 3
   },
   "file_extension": ".py",
   "mimetype": "text/x-python",
   "name": "python",
   "nbconvert_exporter": "python",
   "pygments_lexer": "ipython3",
   "version": "3.12.7"
  }
 },
 "nbformat": 4,
 "nbformat_minor": 5
}
